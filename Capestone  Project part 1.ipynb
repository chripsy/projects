{
 "cells": [
  {
   "cell_type": "markdown",
   "metadata": {
    "collapsed": true
   },
   "source": [
    "1. Description of the problem\n",
    "\n",
    "According to the Federal Statistical Office of Germany, 453,000 people living in Germany in 2019 had full or partial Greek ancestry.363,650 of these were Greek citizens (including those with dual citizenship).\n",
    "Greek food is growing stronger in Germany and it is one of the most interesting culinary experiences that can be found in central and northern Europe.\n",
    "Munich hosts the majority of Greek people living in Germany, but does not offer a variety in greek restaurants. Therefore, the few greek tavernas in Munich are always crowded independently of time and day of the week.\n",
    "This project aims into determining the best neighborhoud to start such a business in Munich city, Germany.\n"
   ]
  },
  {
   "cell_type": "markdown",
   "metadata": {},
   "source": [
    "2. Data\n",
    "I will cluster Muich city by neighborhoods in order to find out the number of venues and their popularity across different districts.\n",
    "Depending on different criteria, such as the income, population, and number of greek schools of each area, we can decide which area would be suitable for opening a greek restaurant in Munich.\n",
    "\n",
    "\n",
    "I will use the following API:\n",
    "\n",
    "Foursquare API: to find restaurant/venues\n",
    "Google API: reverse geolocalisation"
   ]
  }
 ],
 "metadata": {
  "kernelspec": {
   "display_name": "Python 3.7",
   "language": "python",
   "name": "python3"
  },
  "language_info": {
   "codemirror_mode": {
    "name": "ipython",
    "version": 3
   },
   "file_extension": ".py",
   "mimetype": "text/x-python",
   "name": "python",
   "nbconvert_exporter": "python",
   "pygments_lexer": "ipython3",
   "version": "3.7.10"
  }
 },
 "nbformat": 4,
 "nbformat_minor": 1
}
